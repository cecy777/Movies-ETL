{
 "cells": [
  {
   "cell_type": "code",
   "execution_count": null,
   "metadata": {},
   "outputs": [],
   "source": []
  }
 ],
 "metadata": {
  "kernelspec": {
   "display_name": "Python 3.10.4 64-bit",
   "language": "python",
   "name": "python3"
  },
  "language_info": {
   "name": "python",
   "version": "3.10.4"
  },
  "vscode": {
   "interpreter": {
    "hash": "2bbe93ac1efb26b02bfdb01638340edd2e5d4de907501d2b6152d9fd864eb773"
   }
  }
 },
 "nbformat": 4,
 "nbformat_minor": 5
}
